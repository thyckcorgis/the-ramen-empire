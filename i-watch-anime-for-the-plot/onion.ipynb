{
 "cells": [
  {
   "cell_type": "code",
   "execution_count": null,
   "metadata": {},
   "outputs": [],
   "source": [
    "import pandas as pd\n",
    "import geopandas as gpd\n",
    "import folium\n",
    "import shapely\n",
    "from fiona.drvsupport import supported_drivers\n",
    "from pathlib import Path\n"
   ]
  },
  {
   "cell_type": "code",
   "execution_count": null,
   "metadata": {},
   "outputs": [],
   "source": [
    "\n",
    "df = pd.read_csv(\"Location_of_warehouses_Bangalore.csv\")\n",
    "# these two are way outside the city\n",
    "df = df[df['Sl.no'].apply(lambda x: x not in {45, 46})]\n",
    "geo_df = gpd.GeoDataFrame(\n",
    "    df,\n",
    "    geometry=gpd.points_from_xy(\n",
    "        df['Longitude (E) (in degrees)'], df['Latitude (N) (in degrees)']),\n",
    "    crs=\"epsg:4386\"\n",
    ")\n",
    "\n",
    "# enable KML support which is disabled by default\n",
    "supported_drivers['KML'] = 'rw'\n",
    "gdf = gpd.read_file('Bangalore-point.kml', driver='KML')\n",
    "\n",
    "m = geo_df.explore(name=\"Bangalore\", height=500, width=750)\n",
    "m = gdf.explore(m=m, cmap=[\"red\", \"green\", \"blue\"], name=\"points\")\n",
    "m\n"
   ]
  }
 ],
 "metadata": {
  "kernelspec": {
   "display_name": ".env",
   "language": "python",
   "name": "python3"
  },
  "language_info": {
   "codemirror_mode": {
    "name": "ipython",
    "version": 3
   },
   "file_extension": ".py",
   "mimetype": "text/x-python",
   "name": "python",
   "nbconvert_exporter": "python",
   "pygments_lexer": "ipython3",
   "version": "3.10.6"
  },
  "orig_nbformat": 4,
  "vscode": {
   "interpreter": {
    "hash": "32f873f123817cc1e22579355cb36e4716e377dc22bbbe97efa09b109efa668e"
   }
  }
 },
 "nbformat": 4,
 "nbformat_minor": 2
}
