{
 "cells": [
  {
   "cell_type": "code",
   "execution_count": null,
   "metadata": {},
   "outputs": [],
   "source": [
    "import pandas as pd\n",
    "import geopandas"
   ]
  },
  {
   "cell_type": "code",
   "execution_count": null,
   "metadata": {},
   "outputs": [],
   "source": [
    "df = pd.read_csv('ramen-ratings.csv')\n",
    "df.loc[df['Country'] == 'United States', 'Country'] = 'United States of America'\n",
    "\n",
    "df.head()"
   ]
  },
  {
   "cell_type": "code",
   "execution_count": null,
   "metadata": {},
   "outputs": [],
   "source": [
    "from shapely.geometry import Point\n",
    "\n",
    "world: pd.DataFrame = geopandas.read_file(\n",
    "    geopandas.datasets.get_path('naturalearth_lowres'))\n",
    "\n",
    "point = Point(103.804906, 1.373388).buffer(1.5)\n",
    "world = pd.concat([world, pd.DataFrame({\"name\": [\"Singapore\"], \"geometry\": [point]})])\n",
    "\n",
    "point = Point(114.165247, 22.409866).buffer(1.5)\n",
    "world = pd.concat([world, pd.DataFrame({\"name\": [\"Hong Kong\"], \"geometry\": [point]})])\n",
    "\n",
    "world.plot(edgecolor='black', figsize=(25, 25))"
   ]
  },
  {
   "cell_type": "code",
   "execution_count": null,
   "metadata": {},
   "outputs": [],
   "source": [
    "merged = df.merge(world,left_on=\"Country\", right_on=\"name\", how=\"left\")\n",
    "merged[merged['name'].isna()]['Country'].unique()"
   ]
  },
  {
   "cell_type": "code",
   "execution_count": null,
   "metadata": {},
   "outputs": [],
   "source": [
    "pd.set_option('display.max_rows', 500)\n",
    "geopandas.read_file(geopandas.datasets.get_path(\"naturalearth_lowres\"))['name']"
   ]
  },
  {
   "cell_type": "code",
   "execution_count": null,
   "metadata": {},
   "outputs": [],
   "source": [
    "# [print(d) for d in df.unique(subset='Brand')['Brand'].sort().to_list()];\n",
    "\n",
    "df.filter(\n",
    "    pl.col('Brand').str.contains('Samyang')\n",
    ")\n",
    "\n",
    "# df.filter(\n",
    "#     pl.col('Top Ten').is_not_null()\n",
    "# ).sort(by='Top Ten')\n",
    "\n",
    "# df['Style'].unique()\n",
    "\n",
    "df.filter(\n",
    "    pl.col('Country').sort(by='Country'))"
   ]
  }
 ],
 "metadata": {
  "kernelspec": {
   "display_name": ".env",
   "language": "python",
   "name": "python3"
  },
  "language_info": {
   "codemirror_mode": {
    "name": "ipython",
    "version": 3
   },
   "file_extension": ".py",
   "mimetype": "text/x-python",
   "name": "python",
   "nbconvert_exporter": "python",
   "pygments_lexer": "ipython3",
   "version": "3.10.6"
  },
  "orig_nbformat": 4,
  "vscode": {
   "interpreter": {
    "hash": "e07436a9f9972ff79003ecba6cb42d8de0e4527cfcf21b466bfb96df129e5d73"
   }
  }
 },
 "nbformat": 4,
 "nbformat_minor": 2
}
