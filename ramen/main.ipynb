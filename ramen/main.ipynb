{
 "cells": [
  {
   "cell_type": "code",
   "execution_count": null,
   "metadata": {},
   "outputs": [],
   "source": [
    "import polars as pl"
   ]
  },
  {
   "cell_type": "code",
   "execution_count": null,
   "metadata": {},
   "outputs": [],
   "source": [
    "df = pl.read_csv('ramen-ratings.csv', null_values=['Unrated'])\n",
    "\n",
    "df.head()"
   ]
  },
  {
   "cell_type": "code",
   "execution_count": null,
   "metadata": {},
   "outputs": [],
   "source": [
    "# [print(d) for d in df.unique(subset='Brand')['Brand'].sort().to_list()];\n",
    "\n",
    "df.filter(\n",
    "    pl.col('Brand').str.contains('Samyang')\n",
    ")\n",
    "\n",
    "# df.filter(\n",
    "#     pl.col('Top Ten').is_not_null()\n",
    "# ).sort(by='Top Ten')\n",
    "\n",
    "# df['Style'].unique()\n",
    "\n",
    "df.filter(\n",
    "    pl.col('Stars').apply(lambda x: int(x / 0.25) != x/0.25)\n",
    ")"
   ]
  }
 ],
 "metadata": {
  "kernelspec": {
   "display_name": ".env",
   "language": "python",
   "name": "python3"
  },
  "language_info": {
   "codemirror_mode": {
    "name": "ipython",
    "version": 3
   },
   "file_extension": ".py",
   "mimetype": "text/x-python",
   "name": "python",
   "nbconvert_exporter": "python",
   "pygments_lexer": "ipython3",
   "version": "3.10.6"
  },
  "orig_nbformat": 4,
  "vscode": {
   "interpreter": {
    "hash": "e07436a9f9972ff79003ecba6cb42d8de0e4527cfcf21b466bfb96df129e5d73"
   }
  }
 },
 "nbformat": 4,
 "nbformat_minor": 2
}
