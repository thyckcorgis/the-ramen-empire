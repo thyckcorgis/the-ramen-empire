{
 "cells": [
  {
   "cell_type": "code",
   "execution_count": null,
   "metadata": {},
   "outputs": [],
   "source": [
    "import pandas as pd\n",
    "import geopandas"
   ]
  },
  {
   "cell_type": "code",
   "execution_count": null,
   "metadata": {},
   "outputs": [],
   "source": [
    "df = pd.read_csv('ramen-ratings.csv')\n",
    "df.loc[df['Country'] == 'United States', 'Country'] = 'United States of America'\n",
    "\n",
    "df.head()"
   ]
  },
  {
   "cell_type": "code",
   "execution_count": null,
   "metadata": {},
   "outputs": [],
   "source": [
    "from shapely.geometry import Point\n",
    "\n",
    "world: pd.DataFrame = geopandas.read_file(\n",
    "    geopandas.datasets.get_path('naturalearth_lowres'))\n",
    "\n",
    "point = Point(103.804906, 1.373388).buffer(1.5)\n",
    "world = pd.concat([world, pd.DataFrame({\"name\": [\"Singapore\"], \"geometry\": [point]})])\n",
    "\n",
    "point = Point(114.165247, 22.409866).buffer(1.5)\n",
    "world = pd.concat([world, pd.DataFrame({\"name\": [\"Hong Kong\"], \"geometry\": [point]})])\n",
    "\n",
    "world.plot(edgecolor='black', figsize=(25, 25))"
   ]
  },
  {
   "cell_type": "code",
   "execution_count": null,
   "metadata": {},
   "outputs": [],
   "source": [
    "merged = df.merge(world,left_on=\"Country\", right_on=\"name\", how=\"left\")\n",
    "\n",
    "by_variety = merged.groupby(by=['Country', 'Style']).count().copy()['Brand'].unstack(1)\n",
    "# .merge(world, left_on='Country', right_on='name')\n",
    "\n",
    "by_variety['Max'] = by_variety.idxmax(axis=1)\n",
    "by_variety = by_variety['Max'].to_frame().reset_index()\n",
    "world_with_color = world.merge(by_variety, left_on='name', right_on='Country', how='left')\n",
    "\"\"\"\n",
    "supported values are 'Accent', 'Accent_r', 'Blues', 'Blues_r', 'BrBG', 'BrBG_r',\n",
    "'BuGn', 'BuGn_r', 'BuPu', 'BuPu_r', 'CMRmap', 'CMRmap_r', 'Dark2', 'Dark2_r',\n",
    "'GnBu', 'GnBu_r', 'Greens', 'Greens_r', 'Greys', 'Greys_r', 'OrRd', 'OrRd_r',\n",
    "'Oranges', 'Oranges_r', 'PRGn', 'PRGn_r', 'Paired', 'Paired_r', 'Pastel1',\n",
    "'Pastel1_r', 'Pastel2', 'Pastel2_r', 'PiYG', 'PiYG_r', 'PuBu', 'PuBuGn',\n",
    "'PuBuGn_r', 'PuBu_r', 'PuOr', 'PuOr_r', 'PuRd', 'PuRd_r', 'Purples',\n",
    "'Purples_r', 'RdBu', 'RdBu_r', 'RdGy', 'RdGy_r', 'RdPu', 'RdPu_r', 'RdYlBu',\n",
    "'RdYlBu_r', 'RdYlGn', 'RdYlGn_r', 'Reds', 'Reds_r', 'Set1', 'Set1_r', 'Set2',\n",
    "'Set2_r', 'Set3', 'Set3_r', 'Spectral', 'Spectral_r', 'Wistia', 'Wistia_r',\n",
    "'YlGn', 'YlGnBu', 'YlGnBu_r', 'YlGn_r', 'YlOrBr', 'YlOrBr_r', 'YlOrRd',\n",
    "'YlOrRd_r', 'afmhot', 'afmhot_r', 'autumn', 'autumn_r', 'binary', 'binary_r',\n",
    "'bone', 'bone_r', 'brg', 'brg_r', 'bwr', 'bwr_r', 'cividis', 'cividis_r',\n",
    "'cool', 'cool_r', 'coolwarm', 'coolwarm_r', 'copper', 'copper_r', 'cubehelix',\n",
    "'cubehelix_r', 'flag', 'flag_r', 'gist_earth', 'gist_earth_r', 'gist_gray',\n",
    "'gist_gray_r', 'gist_heat', 'gist_heat_r', 'gist_ncar', 'gist_ncar_r',\n",
    "'gist_rainbow', 'gist_rainbow_r', 'gist_stern', 'gist_stern_r', 'gist_yarg',\n",
    "'gist_yarg_r', 'gnuplot', 'gnuplot2', 'gnuplot2_r', 'gnuplot_r', 'gray',\n",
    "'gray_r', 'hot', 'hot_r', 'hsv', 'hsv_r', 'inferno', 'inferno_r', 'jet',\n",
    "'jet_r', 'magma', 'magma_r', 'nipy_spectral', 'nipy_spectral_r', 'ocean',\n",
    "'ocean_r', 'pink', 'pink_r', 'plasma', 'plasma_r', 'prism', 'prism_r',\n",
    "'rainbow', 'rainbow_r', 'seismic', 'seismic_r', 'spring', 'spring_r', 'summer',\n",
    "'summer_r', 'tab10', 'tab10_r', 'tab20', 'tab20_r', 'tab20b', 'tab20b_r',\n",
    "'tab20c', 'tab20c_r', 'terrain', 'terrain_r', 'turbo', 'turbo_r', 'twilight',\n",
    "'twilight_r', 'twilight_shifted', 'twilight_shifted_r', 'viridis', 'viridis_r',\n",
    "'winter', 'winter_r'\n",
    "\"\"\"\n",
    "\n",
    "# Plot by most common variety\n",
    "\n",
    "world_with_color\n",
    "world_with_color.plot(\n",
    "    column='Max',\n",
    "    cmap='plasma_r',\n",
    "    legend=True,\n",
    "    figsize=(25,25),\n",
    "    edgecolor='white',\n",
    "    missing_kwds={\n",
    "        \"color\": \"lightgrey\",\n",
    "        \"label\": \"Missing values\",\n",
    "    },\n",
    ").set_axis_off()"
   ]
  },
  {
   "cell_type": "code",
   "execution_count": null,
   "metadata": {},
   "outputs": [],
   "source": [
    "pd.set_option('display.max_rows', 500)\n",
    "geopandas.read_file(geopandas.datasets.get_path(\"naturalearth_lowres\"))['name']"
   ]
  },
  {
   "cell_type": "code",
   "execution_count": null,
   "metadata": {},
   "outputs": [],
   "source": [
    "# [print(d) for d in df.unique(subset='Brand')['Brand'].sort().to_list()];\n",
    "\n",
    "df.filter(\n",
    "    pl.col('Brand').str.contains('Samyang')\n",
    ")\n",
    "\n",
    "# df.filter(\n",
    "#     pl.col('Top Ten').is_not_null()\n",
    "# ).sort(by='Top Ten')\n",
    "\n",
    "# df['Style'].unique()\n",
    "\n",
    "df.filter(\n",
    "    pl.col('Country').sort(by='Country'))"
   ]
  }
 ],
 "metadata": {
  "kernelspec": {
   "display_name": ".env",
   "language": "python",
   "name": "python3"
  },
  "language_info": {
   "codemirror_mode": {
    "name": "ipython",
    "version": 3
   },
   "file_extension": ".py",
   "mimetype": "text/x-python",
   "name": "python",
   "nbconvert_exporter": "python",
   "pygments_lexer": "ipython3",
   "version": "3.10.6"
  },
  "orig_nbformat": 4,
  "vscode": {
   "interpreter": {
    "hash": "e07436a9f9972ff79003ecba6cb42d8de0e4527cfcf21b466bfb96df129e5d73"
   }
  }
 },
 "nbformat": 4,
 "nbformat_minor": 2
}
